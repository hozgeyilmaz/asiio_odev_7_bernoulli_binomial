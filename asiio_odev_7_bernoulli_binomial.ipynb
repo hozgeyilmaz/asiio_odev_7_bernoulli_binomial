{
  "nbformat": 4,
  "nbformat_minor": 0,
  "metadata": {
    "colab": {
      "name": "Untitled8.ipynb",
      "version": "0.3.2",
      "provenance": [],
      "include_colab_link": true
    },
    "kernelspec": {
      "name": "python3",
      "display_name": "Python 3"
    }
  },
  "cells": [
    {
      "cell_type": "markdown",
      "metadata": {
        "id": "view-in-github",
        "colab_type": "text"
      },
      "source": [
        "<a href=\"https://colab.research.google.com/github/hozgeyilmaz/asiio_odev_7_bernoulli_binomial/blob/master/asiio_odev_7_bernoulli_binomial.ipynb\" target=\"_parent\"><img src=\"https://colab.research.google.com/assets/colab-badge.svg\" alt=\"Open In Colab\"/></a>"
      ]
    },
    {
      "cell_type": "markdown",
      "metadata": {
        "id": "s0oY2JnIsBBD",
        "colab_type": "text"
      },
      "source": [
        "Bernoulli Dağılımı \n",
        "\n",
        "Aynı koşullar altında kesikli bir rassal denemenin sonuçları olumlu-olumsuz, başarılıbaşarısız, geçti-kaldı şeklinde birbiriyle bağdaşmayan ve bütünün kapsayan iki sonuçlu olaylarda, gözlemlerde ya da deneylerde “BERNOULLİ DAĞILIMI” kullanılır.\n",
        "\n",
        "Öğrencinin İstatistik dersinden geçme olasılığı p ise, İstatistik dersinden kalma olasılığı (1-p) olacaktır. X rassal değişkeninde öğrenci dersi geçerse x = 1 ve kalırsa x = 0 olarak tanımlansın. Bu durumda X rassal değişkeninin olasılık fonksiyonu şöyledir:\n",
        "\n",
        "P ( X = x ) = p^x*(1 – p)^1-x , x = 0, 1 şeklinde gösterilir ve Bernoulli Olasılık Dağılımı denir.\n",
        "\n",
        "Bernoulli Dağılımının Aritmetik Ortalaması ve Varyansı: \n",
        "\n",
        "Bernoulli rassal değişkeninin aritmetik ortalaması: \n",
        "\n",
        "µx = E (x) = p\n",
        "\n",
        "Bernoulli rassal değişkeninin varyansı: \n",
        "\n",
        "\n",
        " σ^2= E [ (X - µx)^2= p (1 – p)\n",
        " \n",
        " \n",
        "\n"
      ]
    },
    {
      "cell_type": "markdown",
      "metadata": {
        "id": "E5nFDN3BxiOq",
        "colab_type": "text"
      },
      "source": [
        "Binomial Dağılım\n",
        "\n",
        "İki sonuçlu rassal deneme aynı koşullar altında n kere tekrarlanırsa “BİNOM\n",
        "DAĞILIMI” adı verilen dağılım elde edilir. Bernoulli dağılımının özel bir şeklidir.\n",
        "Öncelikle, n tane deneme olduğu için n tane iki olasılıklı sonuç olacaktır. İncelenen olay\n",
        "başarı ya da başarısızlık ise n tane denemede x tane başarılı ve (n-x) tane başarısız\n",
        "sonuç olacaktır ve denemeler birbirinden bağımsız olduklarından sonuçların herhangi\n",
        "bir dizilimin olasılığı, tekil sonuçların olasılıklarının çarpımına eşittir ve aşağıdaki\n",
        "gibidir.\n",
        "\n",
        "P (x, n-x) = p.p.p………p.(1-p).(1-p)…….(1-p) = p^x(1-p)^n-x\n",
        "\n",
        "Her bir denemenin başarılı olma olasılığı p ve başarısız olma olasılığı (1-p) dir.\n",
        "n tane rassal denemede x tane başarının (n-x) tane başarısızlıkla birlikte çok farklı\n",
        "dizilişlerde gerçekleşebilir yukarıda sadece bir tanesi dikkate alındı. Diziliş sırası\n",
        "önemli değilse n rassal denemede x tane başarı içeren dizilişlerin sayısı:\n",
        "\n",
        "\n",
        " Cn^x= n!/x!(n-x)! (n rassal denemenin x taneli kombinasyonu) olarak bulunur\n",
        " \n",
        " n tane rassal denemenin x tanesinin başarılı olma olasılık fonksiyonu:\n",
        " \n",
        " P(x; n,p) =  n!/x!(n-x)! p^x (1-p)^n-x = Cn^x p^x (1-p)^n-x şeklinde yazılır ve bu formül\n",
        "yardımıyla hesaplanır.\n",
        "x = 0, 1, 2, 3, ……n"
      ]
    },
    {
      "cell_type": "markdown",
      "metadata": {
        "id": "jDPkgEiqy6FL",
        "colab_type": "text"
      },
      "source": [
        "Örnek: %80 başarıyla gerçekleştirilen ameliyatlarda ameliyat edilen 10 hastadan 6 hastanın iyileşme olasılığı nedir?"
      ]
    },
    {
      "cell_type": "code",
      "metadata": {
        "id": "JgrPhRvwzDwg",
        "colab_type": "code",
        "colab": {}
      },
      "source": [
        "n = 10 #toplam hasta sayısı\n",
        "p = 0.80 #ameliyat başarısı\n",
        "x = 6 #olasılık değerini hesaplamak istediğimiz hasta sayısı\n",
        "\n",
        "\n",
        "def faktoriyel(a):\n",
        "    carpim=1\n",
        "    i=1\n",
        "    while i<=a:\n",
        "        carpim=carpim*i  #faktoriyel fonksiyonu\n",
        "        i=i+1\n",
        "    return carpim\n",
        "\n",
        "\n",
        "\n",
        "k=faktoriyel(n)/(faktoriyel(x)*faktoriyel(n-x)) # Kombinasyon metodu\n",
        "\n",
        "#print(k) \n",
        "# P(X=6) = C(n,x)*(p^x)*((1-p)^(n-x))\n",
        "Px = k*(p**x)*((1-p)**(n-x))\n",
        "print(\"10 hastadan 6 hastanın iyileşme olasılıgı = \\n \",Px)\n"
      ],
      "execution_count": 0,
      "outputs": []
    }
  ]
}
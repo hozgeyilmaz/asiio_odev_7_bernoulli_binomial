{
  "nbformat": 4,
  "nbformat_minor": 0,
  "metadata": {
    "colab": {
      "name": "Untitled8.ipynb",
      "version": "0.3.2",
      "provenance": [],
      "include_colab_link": true
    },
    "kernelspec": {
      "name": "python3",
      "display_name": "Python 3"
    }
  },
  "cells": [
    {
      "cell_type": "markdown",
      "metadata": {
        "id": "view-in-github",
        "colab_type": "text"
      },
      "source": [
        "<a href=\"https://colab.research.google.com/github/hozgeyilmaz/asiio_odev_7_bernoulli_binomial/blob/master/asiio_odev_7_bernoulli_binomial.ipynb\" target=\"_parent\"><img src=\"https://colab.research.google.com/assets/colab-badge.svg\" alt=\"Open In Colab\"/></a>"
      ]
    },
    {
      "cell_type": "markdown",
      "metadata": {
        "id": "s0oY2JnIsBBD",
        "colab_type": "text"
      },
      "source": [
        "Bernoulli Dağılımı \n",
        "\n",
        "Aynı koşullar altında kesikli bir rassal denemenin sonuçları olumlu-olumsuz, başarılıbaşarısız, geçti-kaldı şeklinde birbiriyle bağdaşmayan ve bütünün kapsayan iki sonuçlu olaylarda, gözlemlerde ya da deneylerde “BERNOULLİ DAĞILIMI” kullanılır.\n",
        "\n",
        "Öğrencinin İstatistik dersinden geçme olasılığı p ise, İstatistik dersinden kalma olasılığı (1-p) olacaktır. X rassal değişkeninde öğrenci dersi geçerse x = 1 ve kalırsa x = 0 olarak tanımlansın. Bu durumda X rassal değişkeninin olasılık fonksiyonu şöyledir:\n",
        "\n",
        "P ( X = x ) = p^x*(1 – p)^1-x , x = 0, 1 şeklinde gösterilir ve Bernoulli Olasılık Dağılımı denir.\n",
        "\n",
        "Bernoulli Dağılımının Aritmetik Ortalaması ve Varyansı: \n",
        "\n",
        "Bernoulli rassal değişkeninin aritmetik ortalaması: \n",
        "\n",
        "µx = E (x) = p\n",
        "\n",
        "Bernoulli rassal değişkeninin varyansı: \n",
        "\n",
        "\n",
        " σ^2= E [ (X - µx)^2= p (1 – p)\n",
        " \n",
        " \n",
        "\n"
      ]
    },
    {
      "cell_type": "markdown",
      "metadata": {
        "id": "d43dBIVy1OC-",
        "colab_type": "text"
      },
      "source": [
        "ÖRNEK: Bir öğrenci İstatistik dersinden geçme olasılığının 0.7 olduğuna inanmaktadır. Olasılık dağılımının fonksiyonunu yazınız? Ortalamasını ve varyansını bulunuz?\n"
      ]
    },
    {
      "cell_type": "code",
      "metadata": {
        "id": "OhtS09Z11XAo",
        "colab_type": "code",
        "colab": {
          "base_uri": "https://localhost:8080/",
          "height": 84
        },
        "outputId": "86770d83-5cbf-4354-9f31-67a205e5f6f5"
      },
      "source": [
        "#P(x=1) = 0.7\n",
        "#P(x=0) = 0.3\n",
        "\n",
        "\"\"\" Öğrenci dersten geçerse X rassal değişkeni x = 1 ve kalırsa x = 0 değerini alırsa, X\n",
        "rassal değişkeninin olasılık dağılımı şöyle yazılabilir:\n",
        "    P (X = x) = px(1-p)^1-x = 0.7^x*(1-0.7)^1-x = (0.7)^x * (0.3)^1-x\"\"\"\n",
        "    \n",
        "p=0.7\n",
        "# x'in alacağı 1 ve 0 değerleri için olasılık dağılımı:\n",
        "p1= p**1 * (1-p)**0  # P(X=1) = p^1(1-p)^1-1 = 0.7^1 * (1-0.7)^0= 0.7\n",
        "p0= p**0 *(1-p)**1   # P(X=0) = p^0(1-p)^1-0 = 0.7^0 * (1-0.7)^1= 0.3\n",
        "\n",
        "print(\"P1=\",p1)\n",
        " \n",
        "print(\"P0=\",p0)  \n",
        "\n",
        "\n",
        "# Aritmetik ortalaması: µx = E (X) = p = 0.7\n",
        "print(\"aritmetik ortalama:\",p)\n",
        "\n",
        "\n",
        "\n",
        "# Varyans: σ^2 =  E [ (X - µx)^2] = p(1-p)\n",
        "\n",
        "V=p*(1-p)\n",
        "print(\"Varyansı:\" ,V)"
      ],
      "execution_count": 2,
      "outputs": [
        {
          "output_type": "stream",
          "text": [
            "P1= 0.7\n",
            "P0= 0.30000000000000004\n",
            "aritmetik ortalama: 0.7\n",
            "Varyansı: 0.21000000000000002\n"
          ],
          "name": "stdout"
        }
      ]
    },
    {
      "cell_type": "markdown",
      "metadata": {
        "id": "E5nFDN3BxiOq",
        "colab_type": "text"
      },
      "source": [
        "Binomial Dağılım\n",
        "\n",
        "İki sonuçlu rassal deneme aynı koşullar altında n kere tekrarlanırsa “BİNOM\n",
        "DAĞILIMI” adı verilen dağılım elde edilir. Bernoulli dağılımının özel bir şeklidir.\n",
        "Öncelikle, n tane deneme olduğu için n tane iki olasılıklı sonuç olacaktır. İncelenen olay\n",
        "başarı ya da başarısızlık ise n tane denemede x tane başarılı ve (n-x) tane başarısız\n",
        "sonuç olacaktır ve denemeler birbirinden bağımsız olduklarından sonuçların herhangi\n",
        "bir dizilimin olasılığı, tekil sonuçların olasılıklarının çarpımına eşittir ve aşağıdaki\n",
        "gibidir.\n",
        "\n",
        "P (x, n-x) = p.p.p………p.(1-p).(1-p)…….(1-p) = p^x(1-p)^n-x\n",
        "\n",
        "Her bir denemenin başarılı olma olasılığı p ve başarısız olma olasılığı (1-p) dir.\n",
        "n tane rassal denemede x tane başarının (n-x) tane başarısızlıkla birlikte çok farklı\n",
        "dizilişlerde gerçekleşebilir yukarıda sadece bir tanesi dikkate alındı. Diziliş sırası\n",
        "önemli değilse n rassal denemede x tane başarı içeren dizilişlerin sayısı:\n",
        "\n",
        "\n",
        " Cn^x= n!/x!(n-x)! (n rassal denemenin x taneli kombinasyonu) olarak bulunur\n",
        " \n",
        " n tane rassal denemenin x tanesinin başarılı olma olasılık fonksiyonu:\n",
        " \n",
        " P(x; n,p) =  n!/x!(n-x)! p^x (1-p)^n-x = Cn^x p^x (1-p)^n-x şeklinde yazılır ve bu formül\n",
        "yardımıyla hesaplanır.\n",
        "x = 0, 1, 2, 3, ……n"
      ]
    },
    {
      "cell_type": "markdown",
      "metadata": {
        "id": "jDPkgEiqy6FL",
        "colab_type": "text"
      },
      "source": [
        "Örnek: %80 başarıyla gerçekleştirilen ameliyatlarda ameliyat edilen 10 hastadan 6 hastanın iyileşme olasılığı nedir?"
      ]
    },
    {
      "cell_type": "code",
      "metadata": {
        "id": "JgrPhRvwzDwg",
        "colab_type": "code",
        "colab": {
          "base_uri": "https://localhost:8080/",
          "height": 50
        },
        "outputId": "2fef439f-4518-4043-ca2d-9dec3c027768"
      },
      "source": [
        "n = 10 #toplam hasta sayısı\n",
        "p = 0.80 #ameliyat başarısı\n",
        "x = 6 #olasılık değerini hesaplamak istediğimiz hasta sayısı\n",
        "\n",
        "\n",
        "def faktoriyel(a):\n",
        "    carpim=1\n",
        "    i=1\n",
        "    while i<=a:\n",
        "        carpim=carpim*i  #faktoriyel fonksiyonu\n",
        "        i=i+1\n",
        "    return carpim\n",
        "\n",
        "\n",
        "\n",
        "k=faktoriyel(n)/(faktoriyel(x)*faktoriyel(n-x)) # Kombinasyon metodu\n",
        "\n",
        "#print(k) \n",
        "# P(X=6) = C(n,x)*(p^x)*((1-p)^(n-x))\n",
        "Px = k*(p**x)*((1-p)**(n-x))\n",
        "print(\"10 hastadan 6 hastanın iyileşme olasılıgı = \\n \",Px)\n"
      ],
      "execution_count": 3,
      "outputs": [
        {
          "output_type": "stream",
          "text": [
            "10 hastadan 6 hastanın iyileşme olasılıgı = \n",
            "  0.08808038399999996\n"
          ],
          "name": "stdout"
        }
      ]
    }
  ]
}